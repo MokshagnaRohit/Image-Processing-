{
 "cells": [
  {
   "cell_type": "code",
   "execution_count": null,
   "id": "ff53f925",
   "metadata": {},
   "outputs": [],
   "source": [
    "import numpy as np\n",
    "import matplotlib.pyplot as plt\n",
    "from scipy import signal "
   ]
  },
  {
   "cell_type": "code",
   "execution_count": null,
   "id": "778695bb",
   "metadata": {},
   "outputs": [],
   "source": [
    "#match filter\n",
    "measurements = np.load('measurements.npy') #loading the measurements\n",
    "lmf_wfm = np.load('transmit_wfm.npy')\n",
    "\n",
    "plt.figure(figsize=(30,8)) # create a new figure\n",
    "plt.plot(np.abs(measurements[0]))\n",
    "plt.title('Magnitude of the AirSAS measurements')\n",
    "plt.xlabel('samples')\n",
    "plt.ylabel('amplitude')\n",
    "\n",
    "lmf_ext = np.tile(lmf_wfm,10)#expanding the waveform to 1000 samples\n",
    "\n",
    "plt.figure(figsize=(30,8)) # create a new figure\n",
    "plt.plot(np.abs(lmf_ext))\n",
    "plt.title('Magnitude of the LFM Waveform')\n",
    "plt.xlabel('samples')\n",
    "plt.ylabel('amplitude')\n",
    "\n",
    "#calculating the match filter\n",
    "mfilter = signal.correlate(measurements[0],lmf_wfm,mode='full') \n",
    "\n",
    "mfil_mag = np.abs(mfilter) #magnitude the match filter\n",
    "mfil_phase = np.angle(mfilter) #phase the match filter\n",
    "\n",
    "plt.figure(figsize=(30,8)) # create a new figure\n",
    "plt.plot(mfil_mag)\n",
    "\n",
    "plt.title('Magnitude of the match filter')\n",
    "plt.xlabel('samples')\n",
    "plt.ylabel('amplitude')\n",
    "\n",
    "plt.figure(figsize=(30,8)) # create a new figure\n",
    "plt.plot(mfil_phase)\n",
    "plt.title('Phase of the match filter')\n",
    "plt.xlabel('samples')\n",
    "plt.ylabel('phase')\n"
   ]
  },
  {
   "cell_type": "code",
   "execution_count": null,
   "id": "644b8321",
   "metadata": {},
   "outputs": [],
   "source": [
    "#calculating the analytic signal\n",
    "img_signal = signal.hilbert(mfilter)\n",
    "\n",
    "analytic_signal = np.zeros(mfilter.size,dtype = 'complex')\n",
    "analytic_signal = mfilter+ 1j *img_signal\n",
    "\n",
    "analy_mag = np.abs(analytic_signal)\n",
    "analy_phase = np.angle(analytic_signal)\n",
    "\n",
    "plt.figure(figsize=(20,10)) # create a new figure\n",
    "plt.plot(analy_mag)\n",
    "plt.title('Magnitude of the analytic signal')\n",
    "plt.xlabel('samples')\n",
    "plt.ylabel('amplitude')\n",
    "\n",
    "\n",
    "plt.figure(figsize=(20,10)) # create a new figure\n",
    "plt.plot(analy_phase)\n",
    "plt.title('Phase of the analytic signal')\n",
    "plt.xlabel('samples')\n",
    "plt.ylabel('phase')"
   ]
  },
  {
   "cell_type": "code",
   "execution_count": null,
   "id": "9c74ab92",
   "metadata": {},
   "outputs": [],
   "source": [
    "pixels = np.load('pixels.npy')\n",
    "tx_coords = np.load('tx_coords.npy')\n",
    "rx_coords = np.load('rx_coords.npy')\n",
    "\n",
    "index = np.zeros((22500))\n",
    "c = 344.351\n",
    "sample_rate = 100000 #100kHz \n",
    "complex_image = np.zeros((22500),dtype = 'complex')\n",
    "\n",
    "for i in range(0,22500): #for pixel index\n",
    "    tof = 0\n",
    "    for j in range(0,360):  #for receiver and trasmitter index\n",
    "        d1 = np.sqrt((np.power(tx_coords[j,0]-pixels[i,0],2))+(np.power(tx_coords[j,1]-pixels[i,1],2))+(np.power(tx_coords[j,2]-pixels[i,2],2)))\n",
    "        d2 = np.sqrt((np.power(rx_coords[j,0]-pixels[i,0],2))+(np.power(rx_coords[j,1]-pixels[i,1],2))+(np.power(rx_coords[j,2]-pixels[i,2],2)))\n",
    "        dtot = d1+d2\n",
    "        tof = dtot/c\n",
    "\n",
    "    index[i] = sample_rate*tof\n",
    "    complex_image[i] = complex_image[i]+analytic_signal[int(index[i])]\n"
   ]
  },
  {
   "cell_type": "code",
   "execution_count": null,
   "id": "961d681a",
   "metadata": {},
   "outputs": [],
   "source": [
    "img = complex_image.reshape((150,150))\n",
    "\n",
    "plt.imshow(np.angle(img))\n"
   ]
  },
  {
   "cell_type": "code",
   "execution_count": null,
   "id": "844cddc3",
   "metadata": {},
   "outputs": [],
   "source": []
  }
 ],
 "metadata": {
  "kernelspec": {
   "display_name": "Python 3 (ipykernel)",
   "language": "python",
   "name": "python3"
  },
  "language_info": {
   "codemirror_mode": {
    "name": "ipython",
    "version": 3
   },
   "file_extension": ".py",
   "mimetype": "text/x-python",
   "name": "python",
   "nbconvert_exporter": "python",
   "pygments_lexer": "ipython3",
   "version": "3.9.12"
  }
 },
 "nbformat": 4,
 "nbformat_minor": 5
}
