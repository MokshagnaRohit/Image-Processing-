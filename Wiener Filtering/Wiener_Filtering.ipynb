{
 "cells": [
  {
   "cell_type": "code",
   "execution_count": 1,
   "id": "219a33eb",
   "metadata": {},
   "outputs": [],
   "source": [
    "# importing OpenCV(cv2) module\n",
    "import cv2\n",
    "import numpy as np\n",
    "from scipy import fftpack,signal\n",
    "# import matplotlib.pyplot as plt"
   ]
  },
  {
   "cell_type": "code",
   "execution_count": 2,
   "id": "f625e6c6",
   "metadata": {},
   "outputs": [],
   "source": [
    "img = cv2.imread('lion.png') #reading the lion image\n",
    "img = cv2.resize(img,(512,512)) #resizing the image to 512x512\n",
    "cv2.imshow('Lion image', img) #displaying the lion image\n",
    "image = cv2.cvtColor(src=img, code=cv2.COLOR_BGR2GRAY) #storing the grey colour version \n",
    "cv2.waitKey(0)\n",
    "cv2.destroyAllWindows()"
   ]
  },
  {
   "cell_type": "code",
   "execution_count": 3,
   "id": "94a18e2d",
   "metadata": {},
   "outputs": [],
   "source": [
    "#defining the kernel \n",
    "K = [[0, 0.01, 0.01, 0.01,0], [0.1, 0.05, 0.05, 0.05,0.1], [0.1, 0.05, 0.25, 0.05,0.1], [0.1, 0.05, 0.05, 0.05,0.1] , [0, 0.01, 0.01, 0.01,0]] #kernel"
   ]
  },
  {
   "cell_type": "code",
   "execution_count": 4,
   "id": "6a42065c",
   "metadata": {},
   "outputs": [],
   "source": [
    "def convolve2D(image, kernel, padding=0, strides=1):\n",
    "    # Cross Correlation\n",
    "    kernel = np.flipud(np.fliplr(kernel))\n",
    "\n",
    "    # Gather Shapes of Kernel + Image + Padding\n",
    "    xKernShape = kernel.shape[0]\n",
    "    yKernShape = kernel.shape[1]\n",
    "    xImgShape = image.shape[0]\n",
    "    yImgShape = image.shape[1]\n",
    "\n",
    "    # Shape of Output Convolution\n",
    "    xOutput = int(((xImgShape - xKernShape + 2 * padding) / strides) + 1)\n",
    "    yOutput = int(((yImgShape - yKernShape + 2 * padding) / strides) + 1)\n",
    "    output = np.zeros((xOutput, yOutput))\n",
    "\n",
    "    # Apply Equal Padding to All Sides\n",
    "    if padding != 0:\n",
    "        imagePadded = np.zeros((image.shape[0] + padding*2, image.shape[1] + padding*2))\n",
    "        imagePadded[int(padding):int(-1 * padding), int(padding):int(-1 * padding)] = image\n",
    "        print(imagePadded)\n",
    "    else:\n",
    "        imagePadded = image\n",
    "\n",
    "    # Iterate through image\n",
    "    for y in range(image.shape[1]):\n",
    "        # Exit Convolution\n",
    "        if y > image.shape[1] - yKernShape:\n",
    "            break\n",
    "        # Only Convolve if y has gone down by the specified Strides\n",
    "        if y % strides == 0:\n",
    "            for x in range(image.shape[0]):\n",
    "                # Go to next row once kernel is out of bounds\n",
    "                if x > image.shape[0] - xKernShape:\n",
    "                    break\n",
    "                try:\n",
    "                    # Only Convolve if x has moved by the specified Strides\n",
    "                    if x % strides == 0:\n",
    "                        output[x, y] = (kernel * imagePadded[x: x + xKernShape, y: y + yKernShape]).sum()\n",
    "                except:\n",
    "                    break\n",
    "\n",
    "    return output"
   ]
  },
  {
   "cell_type": "code",
   "execution_count": 5,
   "id": "964b956c",
   "metadata": {},
   "outputs": [
    {
     "name": "stdout",
     "output_type": "stream",
     "text": [
      "[[  0.   0.   0. ...   0.   0.   0.]\n",
      " [  0.   0.   0. ...   0.   0.   0.]\n",
      " [  0.   0. 144. ... 221.   0.   0.]\n",
      " ...\n",
      " [  0.   0.  54. ... 130.   0.   0.]\n",
      " [  0.   0.   0. ...   0.   0.   0.]\n",
      " [  0.   0.   0. ...   0.   0.   0.]]\n"
     ]
    }
   ],
   "source": [
    "image_blur = convolve2D(image, K, padding=2) #performing the 2D convolution\n",
    "cv2.imwrite('BlurredImage.jpg', image_blur) #storing the resultant image\n",
    "cv2.imshow('Blurred Lion image', cv2.imread('BlurredImage.jpg')) #displaying the Blurred lion image\n",
    "cv2.waitKey(0)\n",
    "cv2.destroyAllWindows()"
   ]
  },
  {
   "cell_type": "code",
   "execution_count": 6,
   "id": "d24c268f",
   "metadata": {},
   "outputs": [],
   "source": [
    "#adding noise to the image\n",
    "row,col= image.shape\n",
    "mean = 1\n",
    "var = 3\n",
    "sigma = var**0.5\n",
    "gauss = np.random.normal(mean,sigma,(row,col))\n",
    "gauss = gauss.reshape(row,col)\n",
    "noisyimage = image + gauss\n",
    "\n",
    "cv2.imwrite('NoisyImage.jpg', noisyimage) #storing the resultant image\n",
    "cv2.imshow('Lion image', image)\n",
    "cv2.imshow('Noisy Lion image', cv2.imread('NoisyImage.jpg')) #displaying the deconvoluted Blurred lion image\n",
    "cv2.waitKey(0)\n",
    "cv2.destroyAllWindows()"
   ]
  },
  {
   "cell_type": "code",
   "execution_count": 7,
   "id": "d63977e9",
   "metadata": {},
   "outputs": [
    {
     "name": "stderr",
     "output_type": "stream",
     "text": [
      "d:\\Python\\Lib\\site-packages\\scipy\\signal\\_signaltools.py:1657: RuntimeWarning: divide by zero encountered in divide\n",
      "  res *= (1 - noise / lVar)\n",
      "d:\\Python\\Lib\\site-packages\\scipy\\signal\\_signaltools.py:1657: RuntimeWarning: invalid value encountered in multiply\n",
      "  res *= (1 - noise / lVar)\n"
     ]
    }
   ],
   "source": [
    "#Wiener Filtering\n",
    "filt_img = signal.wiener(image_blur,(3,3))\n",
    "cv2.imwrite('FilteredBlurImage.jpg', filt_img) #storing the resultant image\n",
    "cv2.imshow('Filtered Blur Lion image', cv2.imread('FilteredBlurImage.jpg')) #displaying the deconvoluted Blurred lion image\n",
    "cv2.waitKey(0)\n",
    "cv2.destroyAllWindows()\n",
    "\n",
    "filt_img = signal.wiener(noisyimage,(5,5))\n",
    "cv2.imwrite('FilteredNoiseImage.jpg', filt_img) #storing the resultant image\n",
    "cv2.imshow('Filtered Noisy Lion image', cv2.imread('FilteredNoiseImage.jpg')) #displaying the deconvoluted Blurred lion image\n",
    "cv2.waitKey(0)\n",
    "cv2.destroyAllWindows()"
   ]
  }
 ],
 "metadata": {
  "kernelspec": {
   "display_name": "Python 3 (ipykernel)",
   "language": "python",
   "name": "python3"
  },
  "language_info": {
   "codemirror_mode": {
    "name": "ipython",
    "version": 3
   },
   "file_extension": ".py",
   "mimetype": "text/x-python",
   "name": "python",
   "nbconvert_exporter": "python",
   "pygments_lexer": "ipython3",
   "version": "3.11.4"
  }
 },
 "nbformat": 4,
 "nbformat_minor": 5
}
